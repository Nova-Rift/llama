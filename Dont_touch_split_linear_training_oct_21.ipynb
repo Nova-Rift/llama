{
 "cells": [
  {
   "cell_type": "code",
   "execution_count": 6,
   "metadata": {},
   "outputs": [
    {
     "name": "stdout",
     "output_type": "stream",
     "text": [
      "tensor([[[1.0004],\n",
      "         [2.0001],\n",
      "         [3.0000],\n",
      "         [3.9998],\n",
      "         [4.9995]]], grad_fn=<ToCopyBackward0>)\n"
     ]
    }
   ],
   "source": [
    "import torch\n",
    "import torch.nn as nn\n",
    "\n",
    "device = torch.device(\"cuda\" if torch.cuda.is_available() else \"cpu\")\n",
    "\n",
    "data = torch.tensor([[0, 1, 0],\n",
    "                     [1, 0, 1],\n",
    "                     [1, 1, 1],\n",
    "                     [0, 0, 0],\n",
    "                     [1, 1, 0]]).unsqueeze(0).float().to(device)\n",
    "\n",
    "targets = torch.tensor([1, 2, 3, 4, 5]).unsqueeze(0).unsqueeze(2).float().to(device)\n",
    "\n",
    "linear1 = nn.Linear(3, 3).to(device)\n",
    "relu = nn.ReLU().to(device)\n",
    "linear2 = nn.Linear(3, 3).to(device)\n",
    "\n",
    "optimizer = torch.optim.AdamW(list(linear1.parameters()) + list(linear2.parameters()), lr=0.001)\n",
    "\n",
    "loss_f = nn.MSELoss()\n",
    "\n",
    "epochs = 10_000\n",
    "\n",
    "for epoch in range(epochs):\n",
    "    combined = linear1(data)\n",
    "    activated = relu(combined)\n",
    "    combined = linear2(activated)\n",
    "    \n",
    "    a, b, c = combined.split(1, dim=2)\n",
    "    \n",
    "    loss = loss_f(a, targets)\n",
    "    \n",
    "    optimizer.zero_grad()\n",
    "    loss.backward()\n",
    "    optimizer.step()\n",
    "\n",
    "combined = linear1(data)\n",
    "activated = relu(combined)\n",
    "combined = linear2(activated)\n",
    "a, b, c = combined.split(1, dim=2)\n",
    "print(a.cpu())\n"
   ]
  }
 ],
 "metadata": {
  "kernelspec": {
   "display_name": "Python 3",
   "language": "python",
   "name": "python3"
  },
  "language_info": {
   "codemirror_mode": {
    "name": "ipython",
    "version": 3
   },
   "file_extension": ".py",
   "mimetype": "text/x-python",
   "name": "python",
   "nbconvert_exporter": "python",
   "pygments_lexer": "ipython3",
   "version": "3.8.10"
  }
 },
 "nbformat": 4,
 "nbformat_minor": 4
}
