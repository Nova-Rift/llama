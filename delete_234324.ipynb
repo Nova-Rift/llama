{
 "cells": [
  {
   "cell_type": "code",
   "execution_count": null,
   "metadata": {},
   "outputs": [],
   "source": [
    "import torch\n",
    "import torch.distributed as dist\n",
    "import torch.nn as nn\n",
    "import torch.optim as optim\n",
    "from torch.nn.parallel import DistributedDataParallel\n",
    "\n",
    "import matplotlib.pyplot as plt\n",
    "plt.style.use('ggplot')\n",
    "\n",
    "class myModel(nn.Module):\n",
    "    def __init__(self, input_dims):\n",
    "        super().__init__()\n",
    "\n",
    "        self.layer1 = nn.Linear(input_dims, 50)\n",
    "        self.layer2 = nn.Linear(50, 50)\n",
    "        self.layer3 = nn.Linear(50, 1)\n",
    "\n",
    "    def forward(self, x):\n",
    "        x = self.layer1(x)\n",
    "        x = self.layer2(x)\n",
    "        output = self.layer3(x)\n",
    "\n",
    "        return output\n",
    "\n",
    "def main():\n",
    "    # Initialize the distributed environment.\n",
    "    dist.init_process_group('nccl')\n",
    "    \n",
    "    # Here we simulate a input tensor of [1,3,4]\n",
    "    X = torch.tensor([1,3,4]).float().cuda()\n",
    "    X.shape[0]\n",
    "\n",
    "    # Create the model and move it to GPU\n",
    "    model = myModel(X.shape[0]).cuda()\n",
    "    model = DistributedDataParallel(model)\n",
    "\n",
    "    optimizer = optim.AdamW(model.parameters(), lr=0.001)\n",
    "\n",
    "    # Train the model\n",
    "    model(X)\n",
    "\n",
    "    # Save\n",
    "    torch.save({\n",
    "        'model_state_dict': model.module.state_dict(),\n",
    "        'optimizer_state_dict': optimizer.state_dict(),\n",
    "    }, 'checkpoint.pth')\n",
    "\n",
    "if __name__ == \"__main__\":\n",
    "    main()\n"
   ]
  }
 ],
 "metadata": {
  "kernelspec": {
   "display_name": "Python 3",
   "language": "python",
   "name": "python3"
  },
  "language_info": {
   "codemirror_mode": {
    "name": "ipython",
    "version": 3
   },
   "file_extension": ".py",
   "mimetype": "text/x-python",
   "name": "python",
   "nbconvert_exporter": "python",
   "pygments_lexer": "ipython3",
   "version": "3.8.10"
  }
 },
 "nbformat": 4,
 "nbformat_minor": 4
}
