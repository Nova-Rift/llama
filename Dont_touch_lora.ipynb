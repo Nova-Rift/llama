{
 "cells": [
  {
   "cell_type": "code",
   "execution_count": 1,
   "metadata": {},
   "outputs": [],
   "source": [
    "import torch\n",
    "import torch.nn as nn\n",
    "import torch.nn.functional as F"
   ]
  },
  {
   "cell_type": "code",
   "execution_count": 12,
   "metadata": {},
   "outputs": [
    {
     "data": {
      "text/plain": [
       "tensor([-0.4178,  0.0527,  0.2860, -0.2160, -0.9628, -0.0234,  0.1412, -0.2157,\n",
       "        -0.1364,  0.4179, -0.4966, -0.5282,  0.4678,  0.1319,  0.3803,  0.7978,\n",
       "        -0.0436, -0.0223, -0.1968,  0.3369,  0.3349, -0.7447, -0.4242, -0.0657,\n",
       "         0.0318, -0.5602, -0.0867,  0.0194, -0.4563,  0.0027, -0.1443,  0.1436,\n",
       "         0.7101,  0.4038, -0.1858,  0.2627,  0.2492,  0.1637,  0.3377, -0.6230,\n",
       "        -0.4291,  0.0948,  0.6636, -0.3977,  0.6548, -0.2269, -0.3907, -0.7490,\n",
       "        -0.1500,  0.3006, -0.3635,  0.4097, -0.1951, -0.0927,  0.5026,  0.8984,\n",
       "         0.6316,  0.0168, -0.8660,  0.2549,  0.6663,  0.5140, -0.0759, -0.3557,\n",
       "        -0.5989, -0.4600, -0.3807,  0.4687,  0.4531,  0.4831, -0.8452,  0.4256,\n",
       "        -0.4777,  0.4604, -0.0837,  0.3188, -0.5522, -0.7701,  0.2572, -0.1687,\n",
       "         0.2905,  0.7840,  0.3558,  0.1854, -0.1331, -0.0621,  0.2936, -0.2118,\n",
       "        -0.4452, -0.0603, -0.2236,  0.3912, -0.2629,  0.4622, -0.0030,  0.2306,\n",
       "         0.1220, -1.0691,  0.1937, -0.3329, -0.5844, -0.1663, -0.4267,  0.2443,\n",
       "        -0.0770,  0.0983, -0.8978, -0.2088, -0.0201, -0.8978, -0.4750, -0.0152,\n",
       "         0.6973,  1.1086,  0.7854,  0.4844,  0.3310,  0.3027,  0.1266,  0.1885,\n",
       "         0.1478,  0.2474,  0.0849, -0.8973, -0.1680, -0.5099, -0.3548,  0.0269],\n",
       "       grad_fn=<AddBackward0>)"
      ]
     },
     "execution_count": 12,
     "metadata": {},
     "output_type": "execute_result"
    }
   ],
   "source": [
    "class myModel(nn.Module):\n",
    "    \n",
    "    def __init__(self, input_dims, out_dims):\n",
    "        super().__init__()\n",
    "        \n",
    "        self.layer1 = nn.Linear(input_dims, out_dims)\n",
    "        \n",
    "    def forward(self, x):\n",
    "        \n",
    "        x = self.layer1(x)\n",
    "        \n",
    "        return x\n",
    "    \n",
    "model = myModel(16, 128)\n",
    "optimizer = torch.optim.AdamW(model.parameters(), lr=1e-3)\n",
    "\n",
    "data = torch.rand(16)\n",
    "\n",
    "model(data)"
   ]
  },
  {
   "cell_type": "code",
   "execution_count": 10,
   "metadata": {},
   "outputs": [
    {
     "ename": "TypeError",
     "evalue": "unsupported operand type(s) for @: 'Linear' and 'Linear'",
     "output_type": "error",
     "traceback": [
      "\u001b[0;31m---------------------------------------------------------------------------\u001b[0m",
      "\u001b[0;31mTypeError\u001b[0m                                 Traceback (most recent call last)",
      "\u001b[0;32m<ipython-input-10-4e3eda36d660>\u001b[0m in \u001b[0;36m<module>\u001b[0;34m\u001b[0m\n\u001b[1;32m     21\u001b[0m \u001b[0mdata\u001b[0m \u001b[0;34m=\u001b[0m \u001b[0mtorch\u001b[0m\u001b[0;34m.\u001b[0m\u001b[0mrand\u001b[0m\u001b[0;34m(\u001b[0m\u001b[0;36m16\u001b[0m\u001b[0;34m)\u001b[0m\u001b[0;34m\u001b[0m\u001b[0;34m\u001b[0m\u001b[0m\n\u001b[1;32m     22\u001b[0m \u001b[0;34m\u001b[0m\u001b[0m\n\u001b[0;32m---> 23\u001b[0;31m \u001b[0mmodel\u001b[0m\u001b[0;34m(\u001b[0m\u001b[0mdata\u001b[0m\u001b[0;34m)\u001b[0m\u001b[0;34m\u001b[0m\u001b[0;34m\u001b[0m\u001b[0m\n\u001b[0m",
      "\u001b[0;32m~/.local/lib/python3.8/site-packages/torch/nn/modules/module.py\u001b[0m in \u001b[0;36m_call_impl\u001b[0;34m(self, *args, **kwargs)\u001b[0m\n\u001b[1;32m   1499\u001b[0m                 \u001b[0;32mor\u001b[0m \u001b[0m_global_backward_pre_hooks\u001b[0m \u001b[0;32mor\u001b[0m \u001b[0m_global_backward_hooks\u001b[0m\u001b[0;34m\u001b[0m\u001b[0;34m\u001b[0m\u001b[0m\n\u001b[1;32m   1500\u001b[0m                 or _global_forward_hooks or _global_forward_pre_hooks):\n\u001b[0;32m-> 1501\u001b[0;31m             \u001b[0;32mreturn\u001b[0m \u001b[0mforward_call\u001b[0m\u001b[0;34m(\u001b[0m\u001b[0;34m*\u001b[0m\u001b[0margs\u001b[0m\u001b[0;34m,\u001b[0m \u001b[0;34m**\u001b[0m\u001b[0mkwargs\u001b[0m\u001b[0;34m)\u001b[0m\u001b[0;34m\u001b[0m\u001b[0;34m\u001b[0m\u001b[0m\n\u001b[0m\u001b[1;32m   1502\u001b[0m         \u001b[0;31m# Do not call functions when jit is used\u001b[0m\u001b[0;34m\u001b[0m\u001b[0;34m\u001b[0m\u001b[0;34m\u001b[0m\u001b[0m\n\u001b[1;32m   1503\u001b[0m         \u001b[0mfull_backward_hooks\u001b[0m\u001b[0;34m,\u001b[0m \u001b[0mnon_full_backward_hooks\u001b[0m \u001b[0;34m=\u001b[0m \u001b[0;34m[\u001b[0m\u001b[0;34m]\u001b[0m\u001b[0;34m,\u001b[0m \u001b[0;34m[\u001b[0m\u001b[0;34m]\u001b[0m\u001b[0;34m\u001b[0m\u001b[0;34m\u001b[0m\u001b[0m\n",
      "\u001b[0;32m<ipython-input-10-4e3eda36d660>\u001b[0m in \u001b[0;36mforward\u001b[0;34m(self, x)\u001b[0m\n\u001b[1;32m     10\u001b[0m     \u001b[0;32mdef\u001b[0m \u001b[0mforward\u001b[0m\u001b[0;34m(\u001b[0m\u001b[0mself\u001b[0m\u001b[0;34m,\u001b[0m \u001b[0mx\u001b[0m\u001b[0;34m)\u001b[0m\u001b[0;34m:\u001b[0m\u001b[0;34m\u001b[0m\u001b[0;34m\u001b[0m\u001b[0m\n\u001b[1;32m     11\u001b[0m \u001b[0;34m\u001b[0m\u001b[0m\n\u001b[0;32m---> 12\u001b[0;31m         \u001b[0mAcrossB\u001b[0m \u001b[0;34m=\u001b[0m \u001b[0mself\u001b[0m\u001b[0;34m.\u001b[0m\u001b[0mA\u001b[0m \u001b[0;34m@\u001b[0m \u001b[0mself\u001b[0m\u001b[0;34m.\u001b[0m\u001b[0mB\u001b[0m\u001b[0;34m\u001b[0m\u001b[0;34m\u001b[0m\u001b[0m\n\u001b[0m\u001b[1;32m     13\u001b[0m         \u001b[0mout\u001b[0m \u001b[0;34m=\u001b[0m \u001b[0mself\u001b[0m\u001b[0;34m.\u001b[0m\u001b[0mlayer1\u001b[0m \u001b[0;34m+\u001b[0m \u001b[0mAcrossB\u001b[0m\u001b[0;34m\u001b[0m\u001b[0;34m\u001b[0m\u001b[0m\n\u001b[1;32m     14\u001b[0m         \u001b[0mx\u001b[0m \u001b[0;34m=\u001b[0m \u001b[0mout\u001b[0m\u001b[0;34m(\u001b[0m\u001b[0mx\u001b[0m\u001b[0;34m)\u001b[0m\u001b[0;34m\u001b[0m\u001b[0;34m\u001b[0m\u001b[0m\n",
      "\u001b[0;31mTypeError\u001b[0m: unsupported operand type(s) for @: 'Linear' and 'Linear'"
     ]
    }
   ],
   "source": [
    "class myModel(nn.Module):\n",
    "    \n",
    "    def __init__(self, input_dims, out_dims, rank):\n",
    "        super().__init__()\n",
    "        \n",
    "        self.layer1 = nn.Linear(input_dims, out_dims)\n",
    "        self.A = nn.Linear(input_dims, rank)\n",
    "        self.B = nn.Linear(rank, out_dims)\n",
    "        \n",
    "    def forward(self, x):\n",
    "        \n",
    "        AcrossB = self.A @ self.B\n",
    "        out = self.layer1 + AcrossB\n",
    "        x = out(x)\n",
    "        \n",
    "        return x\n",
    "    \n",
    "model = myModel(16, 128, 4)\n",
    "optimizer = torch.optim.AdamW(model.parameters(), lr=1e-3)\n",
    "\n",
    "data = torch.rand(16)\n",
    "\n",
    "model(data)"
   ]
  },
  {
   "cell_type": "markdown",
   "metadata": {},
   "source": [
    "# working lora"
   ]
  },
  {
   "cell_type": "code",
   "execution_count": 15,
   "metadata": {},
   "outputs": [
    {
     "data": {
      "text/plain": [
       "tensor([[ 2.0814, -3.3569,  0.2003,  2.6699,  3.0409, -2.9248, -0.8539, -1.1681,\n",
       "          5.6208,  5.4735,  3.5509, -0.7432, -3.7090, -0.2704, -2.5739,  4.2626,\n",
       "          1.8779, -3.5988,  1.5255, -0.9325,  0.6537, -0.7779,  2.6920, -6.6480,\n",
       "         -1.7500,  4.5094, -4.5425,  4.1396, -1.9845, -0.1102, -3.1174,  3.3400,\n",
       "          2.3653,  1.5188,  1.8876, -0.5312, -5.4253,  2.0907, -1.2952, -0.4010,\n",
       "          1.8288,  1.3090, -0.3476, -2.7510, -3.4891,  5.9249, -5.0030, -3.8181,\n",
       "         -1.8146, -1.9316,  2.5059,  0.5311, -9.0898,  2.4114, -0.5630,  0.9388,\n",
       "         -4.0803, -3.2848,  2.8547,  3.5545, -2.4992,  2.6213,  2.4592, -3.3518,\n",
       "         -0.6746,  0.3652, -2.0115, -1.1867,  1.3993,  0.1393,  4.0982,  2.1443,\n",
       "         -0.0917, -2.9917,  1.3907, -3.2344,  0.1646, -2.5243,  2.3510, -1.5404,\n",
       "         -1.5686, -1.1608,  3.4435,  4.6569,  3.2349,  0.5873, -5.2667,  2.7617,\n",
       "         -0.1261,  0.0996,  1.7889, -0.4298,  1.3854, -5.4287, -0.0255,  1.9962,\n",
       "         -7.7961,  1.8806, -6.3715, -0.6713, -0.4452, -0.5513,  0.1036,  4.2830,\n",
       "          3.2953,  0.4279, -2.4001, -5.4685, -1.4891, -2.3889,  0.6464, -0.0114,\n",
       "         -1.5175, -0.5040,  2.8735,  0.8642,  6.5762,  2.5922, -1.5041, -1.9653,\n",
       "          0.8379,  1.5059,  1.5184,  1.9768, -0.6967,  0.6308,  1.8952, -1.6655]],\n",
       "       grad_fn=<AddmmBackward0>)"
      ]
     },
     "execution_count": 15,
     "metadata": {},
     "output_type": "execute_result"
    }
   ],
   "source": [
    "import torch\n",
    "import torch.nn as nn\n",
    "\n",
    "class myModel(nn.Module):\n",
    "    \n",
    "    def __init__(self, input_dims, out_dims, rank):\n",
    "        super().__init__()\n",
    "        \n",
    "        self.layer1 = nn.Linear(input_dims, out_dims)\n",
    "        self.rank = rank\n",
    "\n",
    "        # Initialize LoRA matrices A and B\n",
    "        self.A = nn.Parameter(torch.randn(out_dims, rank))\n",
    "        self.B = nn.Parameter(torch.randn(rank, input_dims))\n",
    "        \n",
    "    def forward(self, x):\n",
    "        # Modify layer1 weights with LoRA adaptation\n",
    "        modified_W = self.layer1.weight + self.A @ self.B\n",
    "        x = torch.nn.functional.linear(x, modified_W, self.layer1.bias)\n",
    "        return x\n",
    "\n",
    "# Model and optimizer\n",
    "model = myModel(16, 128, rank=5)  # Assuming rank=5 for LoRA\n",
    "# optimizer = torch.optim.AdamW([model.A, model.B], lr=1e-3)  # Optimize only A and B\n",
    "\n",
    "params_to_update = [param for name, param in model.named_parameters() if \"layer1\" not in name]\n",
    "optimizer = torch.optim.AdamW(params_to_update, lr=1e-3)\n",
    "\n",
    "# Sample data\n",
    "data = torch.rand(1, 16)  # Adjust the shape for batch processing\n",
    "\n",
    "# Forward pass\n",
    "output = model(data)\n",
    "\n",
    "output"
   ]
  }
 ],
 "metadata": {
  "kernelspec": {
   "display_name": "Python 3",
   "language": "python",
   "name": "python3"
  },
  "language_info": {
   "codemirror_mode": {
    "name": "ipython",
    "version": 3
   },
   "file_extension": ".py",
   "mimetype": "text/x-python",
   "name": "python",
   "nbconvert_exporter": "python",
   "pygments_lexer": "ipython3",
   "version": "3.8.10"
  }
 },
 "nbformat": 4,
 "nbformat_minor": 4
}
