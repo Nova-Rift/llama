{
 "cells": [
  {
   "cell_type": "code",
   "execution_count": 12,
   "metadata": {},
   "outputs": [
    {
     "name": "stdout",
     "output_type": "stream",
     "text": [
      "Epoch 10/100, Loss: 2.358267068862915\n",
      "Epoch 20/100, Loss: 1.2482671737670898\n",
      "Epoch 30/100, Loss: 0.5834562182426453\n",
      "Epoch 40/100, Loss: 0.16797597706317902\n",
      "Epoch 50/100, Loss: 0.05815335363149643\n",
      "Epoch 60/100, Loss: 0.008336141705513\n",
      "Epoch 70/100, Loss: 0.0034441628959029913\n",
      "Epoch 80/100, Loss: 0.0005430650198832154\n",
      "Epoch 90/100, Loss: 0.0003299889212939888\n",
      "Epoch 100/100, Loss: 6.626630056416616e-05\n",
      "Total time elapsed: 54.95320677757263 seconds\n"
     ]
    }
   ],
   "source": [
    "import torch\n",
    "import torch.nn as nn\n",
    "import torch.optim as optim\n",
    "import time\n",
    "\n",
    "# Check if a GPU is available and if not, use a CPU\n",
    "# device = torch.device(\"cuda:0\" if torch.cuda.is_available() else \"cpu\")\n",
    "device = 'cpu'\n",
    "\n",
    "# Define a larger three-layered neural network\n",
    "class LargerNet(nn.Module):\n",
    "    def __init__(self):\n",
    "        super(LargerNet, self).__init__()\n",
    "        self.fc1 = nn.Linear(20, 8000)  # input dimension is 20, output dimension is 800\n",
    "        self.fc2 = nn.Linear(8000, 16000)  # input dimension is 800, output dimension is 1600\n",
    "        self.fc3 = nn.Linear(16000, 1)   # input dimension is 1600, output dimension is 1\n",
    "\n",
    "    def forward(self, x):\n",
    "        x = torch.relu(self.fc1(x))\n",
    "        x = torch.relu(self.fc2(x))\n",
    "        x = self.fc3(x)\n",
    "        return x\n",
    "\n",
    "# Create a model and move it to GPU\n",
    "model = LargerNet().to(device)\n",
    "\n",
    "# Create a MSE loss function\n",
    "criterion = nn.MSELoss()\n",
    "\n",
    "# Create an optimizer (Adam)\n",
    "optimizer = optim.Adam(model.parameters(), lr=0.001)\n",
    "\n",
    "# Create some fake data\n",
    "x = torch.randn((32, 20)).to(device)  # 32 samples, 20 features\n",
    "y = torch.randn(32, 1).to(device)     # 32 samples, 1 target variable\n",
    "\n",
    "# Record start time\n",
    "start_time = time.time()\n",
    "\n",
    "# Training loop for 100 epochs\n",
    "for epoch in range(100):\n",
    "    # Forward pass\n",
    "    outputs = model(x)\n",
    "    loss = criterion(outputs, y)\n",
    "    \n",
    "    # Backward and optimize\n",
    "    optimizer.zero_grad()\n",
    "    loss.backward()\n",
    "    optimizer.step()\n",
    "    \n",
    "    if (epoch+1) % 10 == 0:\n",
    "        print(f'Epoch {epoch+1}/{100}, Loss: {loss.item()}')\n",
    "\n",
    "# Record end time\n",
    "end_time = time.time()\n",
    "\n",
    "# Print elapsed time\n",
    "elapsed_time = end_time - start_time\n",
    "print(f'Total time elapsed: {elapsed_time} seconds')\n"
   ]
  }
 ],
 "metadata": {
  "kernelspec": {
   "display_name": "Python 3",
   "language": "python",
   "name": "python3"
  },
  "language_info": {
   "codemirror_mode": {
    "name": "ipython",
    "version": 3
   },
   "file_extension": ".py",
   "mimetype": "text/x-python",
   "name": "python",
   "nbconvert_exporter": "python",
   "pygments_lexer": "ipython3",
   "version": "3.8.10"
  }
 },
 "nbformat": 4,
 "nbformat_minor": 4
}
