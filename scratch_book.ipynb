{
 "cells": [
  {
   "cell_type": "code",
   "execution_count": null,
   "metadata": {},
   "outputs": [],
   "source": [
    "import torch\n",
    "import torch.nn as nn\n",
    "\n",
    "X = torch.tensor([\n",
    "    [1],\n",
    "    [2],\n",
    "    [4]\n",
    "]).float()\n",
    "\n",
    "y = torch.tensor([\n",
    "    1,4,16\n",
    "]).float()\n",
    "\n",
    "net = nn.Sequential(\n",
    "    nn.Linear(1,1)\n",
    "#     nn.Linear(1,1, bias=False)\n",
    ")\n",
    "\n",
    "myOpt = torch.optim.AdamW(net.parameters(), lr=1e-3)\n",
    "\n",
    "loss_fn = nn.MSELoss()\n",
    "\n",
    "epochs = 10_000\n",
    "\n",
    "for epoch in range(epochs):\n",
    "    \n",
    "    preds = net(X).squeeze()\n",
    "    \n",
    "    loss = loss_fn(preds, y)\n",
    "    \n",
    "    myOpt.zero_grad()\n",
    "    loss.backward()\n",
    "    myOpt.step()\n",
    "    \n",
    "    if epoch % (epochs // 10) == 0:\n",
    "        print(loss.item())"
   ]
  },
  {
   "cell_type": "code",
   "execution_count": 42,
   "metadata": {},
   "outputs": [
    {
     "name": "stdout",
     "output_type": "stream",
     "text": [
      "1.7649433612823486\n",
      "0.00560655165463686\n",
      "5.963307557976805e-06\n",
      "1.8753304402707727e-06\n",
      "6.452455068028939e-07\n",
      "2.2932229626349e-07\n",
      "8.369261195184663e-08\n",
      "3.111928492671723e-08\n",
      "1.0930108373941039e-08\n",
      "3.9953249597601825e-09\n"
     ]
    }
   ],
   "source": [
    "import torch\n",
    "import torch.nn as nn\n",
    "\n",
    "emb = nn.Embedding(2,2)\n",
    "# emb = torch.rand(2,2)\n",
    "\n",
    "X = torch.tensor([0,1])\n",
    "\n",
    "y = torch.tensor([\n",
    "    1,2\n",
    "]).float()\n",
    "\n",
    "net = nn.Sequential(\n",
    "#     nn.Linear(2,1)\n",
    "    nn.Linear(2,1, bias=False)\n",
    ")\n",
    "\n",
    "myOpt = torch.optim.AdamW(list(net.parameters()) + list(emb.parameters()), lr=1e-3)\n",
    "\n",
    "loss_fn = nn.MSELoss()\n",
    "\n",
    "epochs = 10_000\n",
    "\n",
    "for epoch in range(epochs):\n",
    "    \n",
    "    preds = net(emb(X)).squeeze()\n",
    "    \n",
    "    loss = loss_fn(preds, y)\n",
    "    \n",
    "    myOpt.zero_grad()\n",
    "    loss.backward()\n",
    "    myOpt.step()\n",
    "    \n",
    "    if epoch % (epochs // 10) == 0:\n",
    "        print(loss.item())"
   ]
  },
  {
   "cell_type": "code",
   "execution_count": 17,
   "metadata": {},
   "outputs": [
    {
     "data": {
      "text/plain": [
       "tensor([[0.0068, 0.1474],\n",
       "        [0.6795, 0.3712],\n",
       "        [0.0843, 0.2533]])"
      ]
     },
     "execution_count": 17,
     "metadata": {},
     "output_type": "execute_result"
    }
   ],
   "source": [
    "emb = torch.rand(5,2)\n",
    "\n",
    "X = torch.tensor([\n",
    "    [1],\n",
    "    [2],\n",
    "    [4]\n",
    "])\n",
    "\n",
    "emb[X.squeeze()]"
   ]
  },
  {
   "cell_type": "code",
   "execution_count": 43,
   "metadata": {},
   "outputs": [
    {
     "ename": "TypeError",
     "evalue": "'Embedding' object is not subscriptable",
     "output_type": "error",
     "traceback": [
      "\u001b[0;31m---------------------------------------------------------------------------\u001b[0m",
      "\u001b[0;31mTypeError\u001b[0m                                 Traceback (most recent call last)",
      "\u001b[0;32m<ipython-input-43-69a7f55be54a>\u001b[0m in \u001b[0;36m<module>\u001b[0;34m\u001b[0m\n\u001b[0;32m----> 1\u001b[0;31m \u001b[0mnet\u001b[0m\u001b[0;34m(\u001b[0m\u001b[0memb\u001b[0m\u001b[0;34m[\u001b[0m\u001b[0;36m1\u001b[0m\u001b[0;34m]\u001b[0m\u001b[0;34m)\u001b[0m\u001b[0;34m.\u001b[0m\u001b[0mitem\u001b[0m\u001b[0;34m(\u001b[0m\u001b[0;34m)\u001b[0m\u001b[0;34m\u001b[0m\u001b[0;34m\u001b[0m\u001b[0m\n\u001b[0m",
      "\u001b[0;31mTypeError\u001b[0m: 'Embedding' object is not subscriptable"
     ]
    }
   ],
   "source": [
    "net(emb(torch.)).item()"
   ]
  }
 ],
 "metadata": {
  "kernelspec": {
   "display_name": "Python 3",
   "language": "python",
   "name": "python3"
  },
  "language_info": {
   "codemirror_mode": {
    "name": "ipython",
    "version": 3
   },
   "file_extension": ".py",
   "mimetype": "text/x-python",
   "name": "python",
   "nbconvert_exporter": "python",
   "pygments_lexer": "ipython3",
   "version": "3.8.10"
  }
 },
 "nbformat": 4,
 "nbformat_minor": 4
}
