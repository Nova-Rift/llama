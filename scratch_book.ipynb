{
 "cells": [
  {
   "cell_type": "code",
   "execution_count": 1,
   "metadata": {},
   "outputs": [],
   "source": [
    "import torch"
   ]
  },
  {
   "cell_type": "code",
   "execution_count": 91,
   "metadata": {},
   "outputs": [
    {
     "name": "stdout",
     "output_type": "stream",
     "text": [
      "Accuracy: 0.6000000238418579\n",
      "tensor([0, 0, 0, 0, 0, 1, 1, 1, 1, 1])\n",
      "tensor([0, 0, 1, 1, 0, 1, 0, 1, 1, 0])\n"
     ]
    }
   ],
   "source": [
    "# torch.manual_seed(1)\n",
    "\n",
    "# array1 = torch.randint(2, (10,))\n",
    "\n",
    "# Create a random permutation\n",
    "array1 = torch.randperm(10)\n",
    "\n",
    "# Replace the first 5 elements with 0s and the last 5 with 1s\n",
    "array1[:5] = 0\n",
    "array1[5:] = 1\n",
    "\n",
    "array2 = torch.randint(2, (10,))\n",
    "\n",
    "# Calculate the accuracy\n",
    "correct = (array1 == array2).float().sum()\n",
    "accuracy = correct / array1.size(0)\n",
    "print('Accuracy:', accuracy.item())\n",
    "\n",
    "print(array1)\n",
    "print(array2)"
   ]
  },
  {
   "cell_type": "code",
   "execution_count": 242,
   "metadata": {},
   "outputs": [
    {
     "name": "stdout",
     "output_type": "stream",
     "text": [
      "Average Accuracy: 0.5040000128746033\n"
     ]
    }
   ],
   "source": [
    "import torch\n",
    "import random\n",
    "\n",
    "# Function to create a random tensor with 5 zeros and 5 ones\n",
    "def create_random_tensor():\n",
    "    # Create a list with 5 zeros and 5 ones\n",
    "    lst = [0] * 5 + [1] * 5\n",
    "    # Shuffle the list\n",
    "    random.shuffle(lst)\n",
    "    # Convert the list to a tensor\n",
    "    tensor = torch.tensor(lst)\n",
    "    return tensor\n",
    "\n",
    "# Initialize sum of accuracy\n",
    "sum_accuracy = 0\n",
    "\n",
    "# Run the code 100 times\n",
    "for i in range(100):\n",
    "    # Create two random tensors\n",
    "    array1 = create_random_tensor()\n",
    "    array2 = create_random_tensor()\n",
    "\n",
    "    # Calculate the accuracy\n",
    "    correct = (array1 == array2).float().sum()\n",
    "    accuracy = correct / array1.size(0)\n",
    "    sum_accuracy += accuracy.item()\n",
    "\n",
    "# Calculate the average accuracy\n",
    "average_accuracy = sum_accuracy / 100\n",
    "\n",
    "print('Average Accuracy:', average_accuracy)\n"
   ]
  }
 ],
 "metadata": {
  "kernelspec": {
   "display_name": "Python 3",
   "language": "python",
   "name": "python3"
  },
  "language_info": {
   "codemirror_mode": {
    "name": "ipython",
    "version": 3
   },
   "file_extension": ".py",
   "mimetype": "text/x-python",
   "name": "python",
   "nbconvert_exporter": "python",
   "pygments_lexer": "ipython3",
   "version": "3.8.10"
  }
 },
 "nbformat": 4,
 "nbformat_minor": 4
}
