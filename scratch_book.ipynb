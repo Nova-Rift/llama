{
 "cells": [
  {
   "cell_type": "code",
   "execution_count": 18,
   "metadata": {},
   "outputs": [
    {
     "name": "stdout",
     "output_type": "stream",
     "text": [
      "epoch = 0, loss = 0.0020421347580850124\n",
      "epoch = 5, loss = 0.0039193653501570225\n",
      "epoch = 10, loss = 0.00018892926163971424\n",
      "epoch = 15, loss = 0.002619548700749874\n",
      "epoch = 20, loss = 0.00032010232098400593\n",
      "epoch = 25, loss = 0.002933270065113902\n",
      "epoch = 30, loss = 0.0009258439531549811\n",
      "epoch = 35, loss = 0.0006608207477256656\n",
      "epoch = 40, loss = 9.974760178010911e-05\n",
      "epoch = 45, loss = 0.0006053188117220998\n",
      "test\n",
      "tensor([66.9830], device='cuda:0', grad_fn=<AddBackward0>)\n",
      "real\n",
      "tensor([1.7890], device='cuda:0')\n"
     ]
    }
   ],
   "source": [
    "import torch\n",
    "import torch.nn as nn\n",
    "import torch.optim as optim\n",
    "\n",
    "from torch.utils.data import TensorDataset, DataLoader\n",
    "\n",
    "import warnings\n",
    "warnings.filterwarnings(\"ignore\", category=UserWarning)\n",
    "\n",
    "torch.manual_seed(1)\n",
    "\n",
    "device = 'cuda' if torch.cuda.is_available() else 'cpu'\n",
    "\n",
    "x = torch.rand((4096, 3)).to(device)\n",
    "y_transform = lambda x: (x[:, 0]**3)*3 + 4*(x[:, 1]**2) + (4*x[:, 2])\n",
    "y = y_transform(x).to(device)\n",
    "\n",
    "class myModel(nn.Module):\n",
    "    def __init__(self, input_dims):\n",
    "        super().__init__()\n",
    "        self.dims = 1024\n",
    "        self.model = nn.Sequential(\n",
    "            nn.Linear(input_dims, self.dims),\n",
    "            nn.ReLU(),\n",
    "            nn.Linear(self.dims, self.dims),\n",
    "            nn.ReLU(),\n",
    "            nn.Linear(self.dims, 1)            \n",
    "        )\n",
    "        \n",
    "    def forward(self, x):\n",
    "        x = self.model(x)\n",
    "        return x\n",
    "\n",
    "    \n",
    "model = myModel(x.shape[1]).to(device)\n",
    "optimizer = optim.AdamW(model.parameters(), lr=0.001)\n",
    "loss_fn = nn.MSELoss()\n",
    "\n",
    "batch_size = 8\n",
    "dataset = TensorDataset(x, y)\n",
    "dataloader = DataLoader(dataset, batch_size=batch_size, shuffle=True)\n",
    "\n",
    "epochs = 50\n",
    "\n",
    "for epoch in range(epochs):\n",
    "    \n",
    "    for x_batch, y_batch in dataloader:\n",
    "        optimizer.zero_grad()  # Zero the gradients\n",
    "\n",
    "        y_pred = model(x_batch)      # Get predictions from the model\n",
    "\n",
    "        loss = loss_fn(y_pred, y_batch.view(batch_size, -1))  # Compute the loss\n",
    "\n",
    "        loss.backward()       # Backpropagate the loss\n",
    "\n",
    "        optimizer.step()      # Update the model parameters\n",
    "\n",
    "    if epoch % (epochs / 10) == 0:\n",
    "        print(f'epoch = {epoch}, loss = {loss.item()}')\n",
    "        \n",
    "print('test')\n",
    "print(model(torch.tensor([3.0,4.0,5.0]).to(device)))\n",
    "print('real')\n",
    "print(y_transform(torch.tensor([[0.7,0.3,0.1]]).to(device)))\n"
   ]
  },
  {
   "cell_type": "code",
   "execution_count": 19,
   "metadata": {},
   "outputs": [
    {
     "name": "stdout",
     "output_type": "stream",
     "text": [
      "test\n",
      "tensor([1.7842], device='cuda:0', grad_fn=<AddBackward0>)\n",
      "real\n",
      "tensor([1.7890], device='cuda:0')\n"
     ]
    }
   ],
   "source": [
    "print('test')\n",
    "print(model(torch.tensor([0.7,0.3,0.1]).to(device)))\n",
    "print('real')\n",
    "print(y_transform(torch.tensor([[0.7,0.3,0.1]]).to(device)))"
   ]
  }
 ],
 "metadata": {
  "kernelspec": {
   "display_name": "Python 3",
   "language": "python",
   "name": "python3"
  },
  "language_info": {
   "codemirror_mode": {
    "name": "ipython",
    "version": 3
   },
   "file_extension": ".py",
   "mimetype": "text/x-python",
   "name": "python",
   "nbconvert_exporter": "python",
   "pygments_lexer": "ipython3",
   "version": "3.8.10"
  }
 },
 "nbformat": 4,
 "nbformat_minor": 4
}
