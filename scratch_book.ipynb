{
 "cells": [
  {
   "cell_type": "code",
   "execution_count": 1,
   "metadata": {},
   "outputs": [],
   "source": [
    "import torch\n",
    "import torch.nn as nn\n",
    "import torch.nn.functional as F"
   ]
  },
  {
   "cell_type": "code",
   "execution_count": 2,
   "metadata": {},
   "outputs": [],
   "source": [
    "myLin = nn.Linear(3,12)"
   ]
  },
  {
   "cell_type": "code",
   "execution_count": 10,
   "metadata": {},
   "outputs": [
    {
     "name": "stdout",
     "output_type": "stream",
     "text": [
      "tensor([[-0.2853, -0.1057,  0.4158, -0.9548,  0.0891, -0.4504, -0.1180, -0.5443,\n",
      "         -0.1376, -0.1873, -0.2776, -0.6254],\n",
      "        [-0.4549,  0.1568,  0.2583, -1.0162, -0.0182, -0.4958,  0.3076, -0.0196,\n",
      "          0.0388, -0.4013, -0.2181, -0.3737],\n",
      "        [-0.3272, -0.1195,  0.2708, -0.8679,  0.0035, -0.4211,  0.0950, -0.2810,\n",
      "         -0.0226, -0.2548, -0.3052, -0.4274],\n",
      "        [-0.3951, -0.2980, -0.0724, -0.6055, -0.2240, -0.4621,  0.3429,  0.0369,\n",
      "          0.2174, -0.3572, -0.4410, -0.0608],\n",
      "        [-0.1805, -0.4228,  0.1352, -0.5821, -0.0084, -0.0640,  0.3449,  0.0109,\n",
      "          0.0391, -0.1431, -0.3861, -0.1446]], grad_fn=<SelectBackward0>)\n"
     ]
    },
    {
     "data": {
      "text/plain": [
       "torch.Size([1, 5, 4, 3])"
      ]
     },
     "execution_count": 10,
     "metadata": {},
     "output_type": "execute_result"
    }
   ],
   "source": [
    "X = torch.rand(1,5,3)\n",
    "y = torch.rand(1,5,1)\n",
    "\n",
    "pred = myLin(X)\n",
    "print(pred[-1])\n",
    "pred = pred.view(1,5,4,3)\n",
    "pred.shape"
   ]
  },
  {
   "cell_type": "code",
   "execution_count": 30,
   "metadata": {},
   "outputs": [
    {
     "name": "stdout",
     "output_type": "stream",
     "text": [
      "tensor([[[[3, 4],\n",
      "          [1, 3],\n",
      "          [4, 3]],\n",
      "\n",
      "         [[3, 0],\n",
      "          [4, 2],\n",
      "          [0, 1]]]]) \n",
      "\n",
      "tensor([[[[1, 3, 4],\n",
      "          [0, 2, 3]],\n",
      "\n",
      "         [[4, 3, 0],\n",
      "          [1, 3, 0]]]])\n"
     ]
    },
    {
     "data": {
      "text/plain": [
       "tensor([[[[ 3, 17, 24],\n",
       "          [ 1,  9, 13],\n",
       "          [ 4, 18, 25]],\n",
       "\n",
       "         [[12,  9,  0],\n",
       "          [18, 18,  0],\n",
       "          [ 1,  3,  0]]]])"
      ]
     },
     "execution_count": 30,
     "metadata": {},
     "output_type": "execute_result"
    }
   ],
   "source": [
    "a = torch.randint(5, (1,2,3,2))\n",
    "print(a, '\\n')\n",
    "b = torch.randint(5, (1,2,3,2))\n",
    "b = b.transpose(-2,-1)\n",
    "print(b)\n",
    "\n",
    "a @ b"
   ]
  }
 ],
 "metadata": {
  "kernelspec": {
   "display_name": "Python 3",
   "language": "python",
   "name": "python3"
  },
  "language_info": {
   "codemirror_mode": {
    "name": "ipython",
    "version": 3
   },
   "file_extension": ".py",
   "mimetype": "text/x-python",
   "name": "python",
   "nbconvert_exporter": "python",
   "pygments_lexer": "ipython3",
   "version": "3.8.10"
  }
 },
 "nbformat": 4,
 "nbformat_minor": 4
}
