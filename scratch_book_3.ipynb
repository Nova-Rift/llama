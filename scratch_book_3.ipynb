{
 "cells": [
  {
   "cell_type": "code",
   "execution_count": 12,
   "metadata": {},
   "outputs": [
    {
     "name": "stdout",
     "output_type": "stream",
     "text": [
      "46.29094696044922\n",
      "29.65461540222168\n",
      "20.845483779907227\n",
      "6.913368225097656\n",
      "2.530761480331421\n",
      "0.7222790718078613\n",
      "0.2817496657371521\n",
      "0.20110617578029633\n",
      "0.06798630207777023\n",
      "0.03636946901679039\n"
     ]
    }
   ],
   "source": [
    "import torch\n",
    "import torch.nn as nn\n",
    "import torch.optim as optim\n",
    "\n",
    "from torch.utils.data import TensorDataset, DataLoader\n",
    "\n",
    "device = 'cuda' if torch.cuda.is_available() else 'cpu'\n",
    "\n",
    "torch.manual_seed(1)\n",
    "\n",
    "x = torch.rand((45,2)).to(device)\n",
    "y = lambda x: (x[:, 0]**2)*3 + 4*x[:, 1] + 4\n",
    "# y = torch.rand(45)\n",
    "y = y(x).to(device)\n",
    "\n",
    "class myModel(nn.Module):\n",
    "    def __init__(self, input_dims):\n",
    "        super().__init__()\n",
    "        \n",
    "        self.l1 = nn.Linear(input_dims, 1)\n",
    "        \n",
    "    def forward(self, x):\n",
    "    \n",
    "        x = self.l1(x)\n",
    "        \n",
    "        return x\n",
    "    \n",
    "model = myModel(x.shape[1]).to(device)\n",
    "optimizer = optim.AdamW(model.parameters(), lr=0.001)\n",
    "loss_fn = nn.MSELoss()\n",
    "\n",
    "batch_size = 5\n",
    "\n",
    "dataset = TensorDataset(x, y)\n",
    "\n",
    "dataloader = DataLoader(dataset, batch_size=batch_size, shuffle=True)\n",
    "\n",
    "epochs = 1_000\n",
    "\n",
    "for epoch in range(epochs):\n",
    "    \n",
    "    for x_batch, y_batch in dataloader:\n",
    "        optimizer.zero_grad()  # Zero the gradients\n",
    "\n",
    "        y_pred = model(x_batch)      # Get predictions from the model\n",
    "\n",
    "        loss = loss_fn(y_pred, y_batch.view(batch_size, -1))  # Compute the loss\n",
    "\n",
    "        loss.backward()       # Backpropagate the loss\n",
    "\n",
    "        optimizer.step()      # Update the model parameters\n",
    "\n",
    "    if epoch % (epochs / 10) == 0:\n",
    "        print(loss.item())\n"
   ]
  }
 ],
 "metadata": {
  "kernelspec": {
   "display_name": "Python 3",
   "language": "python",
   "name": "python3"
  },
  "language_info": {
   "codemirror_mode": {
    "name": "ipython",
    "version": 3
   },
   "file_extension": ".py",
   "mimetype": "text/x-python",
   "name": "python",
   "nbconvert_exporter": "python",
   "pygments_lexer": "ipython3",
   "version": "3.8.10"
  }
 },
 "nbformat": 4,
 "nbformat_minor": 4
}
