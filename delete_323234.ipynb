{
 "cells": [
  {
   "cell_type": "code",
   "execution_count": 4,
   "metadata": {},
   "outputs": [
    {
     "name": "stdout",
     "output_type": "stream",
     "text": [
      "Epoch 10 / 100, Loss: 1.590171456336975\n",
      "Epoch 20 / 100, Loss: 0.7456074953079224\n",
      "Epoch 30 / 100, Loss: 0.6242599487304688\n",
      "Epoch 40 / 100, Loss: 0.40548694133758545\n",
      "Epoch 50 / 100, Loss: 0.2211156189441681\n",
      "Epoch 60 / 100, Loss: 0.09267991781234741\n",
      "Epoch 70 / 100, Loss: 0.029667919501662254\n",
      "Epoch 80 / 100, Loss: 0.011836553923785686\n",
      "Epoch 90 / 100, Loss: 0.005946386605501175\n",
      "Epoch 100 / 100, Loss: 0.0021646444220095873\n"
     ]
    }
   ],
   "source": [
    "import torch\n",
    "import torch.nn as nn\n",
    "import torch.nn.functional as F\n",
    "\n",
    "class Model(nn.Module):\n",
    "    def __init__(self):\n",
    "        super().__init__()\n",
    "        \n",
    "        self.fc1 = nn.Linear(10, 8000)\n",
    "        self.fc2 = nn.Linear(8000, 16000)\n",
    "        self.fc3 = nn.Linear(16000, 1)\n",
    "        \n",
    "    def forward(self, x):\n",
    "        x = torch.relu(self.fc1(x))\n",
    "        x = torch.relu(self.fc2(x))\n",
    "        x = self.fc3(x)\n",
    "        return x\n",
    "    \n",
    "model = Model().cuda()\n",
    "loss_fn = nn.MSELoss()\n",
    "\n",
    "optimizer = torch.optim.AdamW(model.parameters(), lr=0.001)\n",
    "\n",
    "x = torch.randn((32, 10)).cuda()\n",
    "y = torch.randn(32, 1).cuda()\n",
    "\n",
    "for epoch in range(100):\n",
    "    \n",
    "    outputs = model(x)\n",
    "    loss = loss_fn(outputs, y)\n",
    "    \n",
    "    # Backward and Optimize\n",
    "    optimizer.zero_grad()\n",
    "    loss.backward()\n",
    "    optimizer.step()\n",
    "    \n",
    "    if (epoch+1) % 10 == 0:\n",
    "        print(f'Epoch {epoch + 1} / {100}, Loss: {loss.item()}')\n",
    "        \n",
    "        "
   ]
  }
 ],
 "metadata": {
  "kernelspec": {
   "display_name": "Python 3",
   "language": "python",
   "name": "python3"
  },
  "language_info": {
   "codemirror_mode": {
    "name": "ipython",
    "version": 3
   },
   "file_extension": ".py",
   "mimetype": "text/x-python",
   "name": "python",
   "nbconvert_exporter": "python",
   "pygments_lexer": "ipython3",
   "version": "3.8.10"
  }
 },
 "nbformat": 4,
 "nbformat_minor": 4
}
