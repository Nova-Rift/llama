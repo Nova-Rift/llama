{
 "cells": [
  {
   "cell_type": "code",
   "execution_count": 1,
   "metadata": {},
   "outputs": [],
   "source": [
    "import torch\n",
    "import torch.nn as nn\n",
    "import torch.optim as optim\n",
    "\n",
    "torch.manual_seed(1)\n",
    "\n",
    "x = torch.rand((45,2))\n",
    "y = lambda x: (x[:, 0]**2)*3 + 4*x[:, 1] + 4\n",
    "# y = torch.rand(45)\n",
    "y = y(x)\n",
    "# print(x)\n",
    "# print(y(x))\n",
    "\n",
    "class myModel(nn.Module):\n",
    "    def __init__(self, input_dims):\n",
    "        super().__init__()\n",
    "        \n",
    "        self.l1 = nn.Linear(input_dims, 1)\n",
    "        \n",
    "    def forward(self, x):\n",
    "    \n",
    "        x = self.l1(x)\n",
    "        \n",
    "        return x\n",
    "    \n",
    "model = myModel(x.shape[1])\n",
    "optimizer = optim.AdamW(model.parameters(), lr=0.001)\n",
    "loss_fn = nn.MSELoss()"
   ]
  },
  {
   "cell_type": "code",
   "execution_count": 2,
   "metadata": {},
   "outputs": [
    {
     "name": "stderr",
     "output_type": "stream",
     "text": [
      "/home/clark/.local/lib/python3.8/site-packages/torch/nn/modules/loss.py:536: UserWarning: Using a target size (torch.Size([45])) that is different to the input size (torch.Size([45, 1])). This will likely lead to incorrect results due to broadcasting. Please ensure they have the same size.\n",
      "  return F.mse_loss(input, target, reduction=self.reduction)\n"
     ]
    },
    {
     "name": "stdout",
     "output_type": "stream",
     "text": [
      "tensor(52.5927, grad_fn=<MseLossBackward0>)\n",
      "tensor(29.3871, grad_fn=<MseLossBackward0>)\n",
      "tensor(15.3858, grad_fn=<MseLossBackward0>)\n",
      "tensor(7.7967, grad_fn=<MseLossBackward0>)\n",
      "tensor(4.4322, grad_fn=<MseLossBackward0>)\n",
      "tensor(3.3546, grad_fn=<MseLossBackward0>)\n",
      "tensor(3.0447, grad_fn=<MseLossBackward0>)\n",
      "tensor(2.8121, grad_fn=<MseLossBackward0>)\n",
      "tensor(2.5497, grad_fn=<MseLossBackward0>)\n",
      "tensor(2.2810, grad_fn=<MseLossBackward0>)\n"
     ]
    }
   ],
   "source": [
    "epochs = 10000\n",
    "\n",
    "for epoch in range(epochs):\n",
    "    \n",
    "    optimizer.zero_grad()  # Zero the gradients\n",
    "    \n",
    "    y_pred = model(x)      # Get predictions from the model\n",
    "    \n",
    "    loss = loss_fn(y_pred, y.view(-1))  # Compute the loss\n",
    "    \n",
    "    loss.backward()       # Backpropagate the loss\n",
    "    \n",
    "    optimizer.step()      # Update the model parameters\n",
    "    \n",
    "    if epoch % (epochs / 10) == 0:\n",
    "        print(loss)\n"
   ]
  }
 ],
 "metadata": {
  "kernelspec": {
   "display_name": "Python 3",
   "language": "python",
   "name": "python3"
  },
  "language_info": {
   "codemirror_mode": {
    "name": "ipython",
    "version": 3
   },
   "file_extension": ".py",
   "mimetype": "text/x-python",
   "name": "python",
   "nbconvert_exporter": "python",
   "pygments_lexer": "ipython3",
   "version": "3.8.10"
  }
 },
 "nbformat": 4,
 "nbformat_minor": 4
}
