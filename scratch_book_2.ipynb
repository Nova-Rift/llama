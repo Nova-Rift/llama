{
 "cells": [
  {
   "cell_type": "code",
   "execution_count": 68,
   "metadata": {},
   "outputs": [],
   "source": [
    "import torch\n",
    "import torch.nn as nn"
   ]
  },
  {
   "cell_type": "code",
   "execution_count": 112,
   "metadata": {},
   "outputs": [
    {
     "name": "stdout",
     "output_type": "stream",
     "text": [
      "21.318017959594727\n",
      "4.72476863861084\n",
      "1.771176815032959\n",
      "0.5269896388053894\n",
      "0.10069114714860916\n",
      "0.03173786774277687\n",
      "0.027912551537156105\n",
      "0.02780045010149479\n",
      "0.027785377576947212\n",
      "0.0277804434299469\n",
      "\n",
      "4.166189193725586\n"
     ]
    }
   ],
   "source": [
    "X = torch.tensor([\n",
    "    [0, 1, 2],\n",
    "    [0, 2, 1],\n",
    "    [1, 0, 2],\n",
    "    [1, 2, 0],\n",
    "    [2, 0, 1],\n",
    "    [2, 1, 0]\n",
    "]).float()\n",
    "\n",
    "y = torch.tensor([1,2,3,4,5,6]).float()\n",
    "\n",
    "myLin = nn.Linear(3,1)\n",
    "optimizer = torch.optim.AdamW(myLin.parameters(), lr=0.001)\n",
    "loss_fn = nn.MSELoss()\n",
    "\n",
    "\n",
    "\n",
    "epochs = 10_000\n",
    "\n",
    "for epoch in range(epochs):\n",
    "    \n",
    "    preds = myLin(X).squeeze()\n",
    "    loss = loss_fn(preds, y)\n",
    "    \n",
    "    optimizer.zero_grad()\n",
    "    loss.backward()\n",
    "    optimizer.step()\n",
    "    \n",
    "    if epoch % (epochs // 10) == 0:\n",
    "        print(loss.item())\n",
    "        \n",
    "def generate():\n",
    "    \n",
    "    out = myLin(torch.tensor([1,2,0]).float())\n",
    "    print()\n",
    "    print(out.item())\n",
    "    \n",
    "generate()"
   ]
  }
 ],
 "metadata": {
  "kernelspec": {
   "display_name": "Python 3",
   "language": "python",
   "name": "python3"
  },
  "language_info": {
   "codemirror_mode": {
    "name": "ipython",
    "version": 3
   },
   "file_extension": ".py",
   "mimetype": "text/x-python",
   "name": "python",
   "nbconvert_exporter": "python",
   "pygments_lexer": "ipython3",
   "version": "3.8.10"
  }
 },
 "nbformat": 4,
 "nbformat_minor": 4
}
