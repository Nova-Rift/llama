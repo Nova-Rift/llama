{
 "cells": [
  {
   "cell_type": "code",
   "execution_count": 66,
   "metadata": {},
   "outputs": [
    {
     "name": "stdout",
     "output_type": "stream",
     "text": [
      "Fixed Embedding Loss: 8.614435195922852\n",
      "Fixed Embedding Loss: 11.736712455749512\n",
      "Fixed Embedding Loss: 8.359518051147461\n",
      "Fixed Embedding Loss: 9.700831413269043\n",
      "Fixed Embedding Loss: 7.664737701416016\n",
      "Fixed Embedding Loss: 10.823761940002441\n",
      "Fixed Embedding Loss: 7.186200141906738\n",
      "Fixed Embedding Loss: 8.545512199401855\n",
      "Fixed Embedding Loss: 10.099023818969727\n",
      "Fixed Embedding Loss: 8.319470405578613\n",
      "Fixed Embedding Loss: 8.152838706970215\n",
      "Fixed Embedding Loss: 7.831308364868164\n",
      "Fixed Embedding Loss: 8.206770896911621\n",
      "Fixed Embedding Loss: 6.585118293762207\n",
      "Fixed Embedding Loss: 7.496617317199707\n",
      "Fixed Embedding Loss: 8.212674140930176\n",
      "Fixed Embedding Loss: 8.076261520385742\n",
      "Fixed Embedding Loss: 8.732516288757324\n",
      "Fixed Embedding Loss: 9.95793342590332\n",
      "Fixed Embedding Loss: 11.16189193725586\n",
      "\n",
      "losses mean = 8.773205757141113\n"
     ]
    }
   ],
   "source": [
    "import torch\n",
    "import torch.nn as nn\n",
    "import torch.optim as optim\n",
    "\n",
    "losses = torch.zeros(20)\n",
    "\n",
    "for i in range(20):\n",
    "\n",
    "    torch.manual_seed(i)\n",
    "\n",
    "    class FixedPositionalEmbeddingModel(nn.Module):\n",
    "        def __init__(self, d_model=2):\n",
    "            super(FixedPositionalEmbeddingModel, self).__init__()\n",
    "            self.token_embedding = nn.Embedding(10, d_model)\n",
    "            self.position_embedding = nn.Embedding(2, d_model)\n",
    "            self.position_embedding.weight.requires_grad = False\n",
    "\n",
    "        def forward(self, x):\n",
    "            position_ids = torch.arange(x.size(1)).unsqueeze(0).to(x.device)\n",
    "            return self.token_embedding(x) + self.position_embedding(position_ids)\n",
    "\n",
    "    # Generate some data\n",
    "    inputs = torch.randint(0, 10, (100, 2))\n",
    "    targets = inputs.sum(dim=-1).view(100,1).float()\n",
    "\n",
    "    model = FixedPositionalEmbeddingModel()\n",
    "    optimizer = optim.SGD(model.parameters(), lr=0.01)\n",
    "\n",
    "\n",
    "    loss_fn = nn.MSELoss()\n",
    "\n",
    "    # Training\n",
    "    for epoch in range(2000):\n",
    "        outputs = model(inputs).sum(dim=-1)\n",
    "        loss = loss_fn(outputs, targets)\n",
    "        optimizer.zero_grad()\n",
    "        loss.backward()\n",
    "        optimizer.step()\n",
    "\n",
    "    losses[i] = loss.item()\n",
    "        \n",
    "    print(\"Fixed Embedding Loss:\", loss.item())\n",
    "    \n",
    "print()\n",
    "print(f\"losses mean = {losses.mean()}\")"
   ]
  }
 ],
 "metadata": {
  "kernelspec": {
   "display_name": "Python 3",
   "language": "python",
   "name": "python3"
  },
  "language_info": {
   "codemirror_mode": {
    "name": "ipython",
    "version": 3
   },
   "file_extension": ".py",
   "mimetype": "text/x-python",
   "name": "python",
   "nbconvert_exporter": "python",
   "pygments_lexer": "ipython3",
   "version": "3.8.10"
  }
 },
 "nbformat": 4,
 "nbformat_minor": 4
}
