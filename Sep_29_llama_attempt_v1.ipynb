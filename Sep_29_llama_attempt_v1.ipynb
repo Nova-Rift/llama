{
 "cells": [
  {
   "cell_type": "code",
   "execution_count": 19,
   "metadata": {},
   "outputs": [],
   "source": [
    "from dataclasses import dataclass\n",
    "import math\n",
    "\n",
    "import torch\n",
    "from torch import nn\n",
    "import torch.nn.functional as F\n",
    "\n",
    "device = 'cuda' if torch.cuda.is_available() else 'cpu'\n",
    "\n",
    "n_embd: int = 128\n",
    "n_layer: int = 4\n",
    "n_head: int = 4\n",
    "multiple_of: int = 256  # make SwiGLU hidden layer size multiple of large power of 2\n",
    "norm_eps: float = 1e-5\n",
    "batch_size: int = 16\n",
    "block_size: int = 128\n",
    "\n",
    "\n",
    "text = open('../data/shakespeare.txt', encoding='utf-8').read()\n",
    "\n",
    "# here are all the unique characters that occur in this text\n",
    "chars = sorted(list(set(text)))\n",
    "vocab_size = len(chars)\n",
    "# create a mapping from characters to integers\n",
    "stoi = { ch:i for i,ch in enumerate(chars) }\n",
    "itos = { i:ch for i,ch in enumerate(chars) }\n",
    "encode = lambda s: [stoi[c] for c in s] # encoder: take a string, output a list of integers\n",
    "decode = lambda l: ''.join([itos[i] for i in l]) # decoder: take a list of integers, output a string\n",
    "\n",
    "# Train and test splits\n",
    "data = torch.tensor(encode(text), dtype=torch.long)\n",
    "n = int(0.9*len(data)) # first 90% will be train, rest val\n",
    "train_data = data[:n]\n",
    "val_data = data[n:]\n",
    "\n",
    "# data loading\n",
    "def get_batch(split):\n",
    "    # generate a small batch of data of inputs x and targets y\n",
    "    data = train_data if split == 'train' else val_data\n",
    "    ix = torch.randint(len(data) - block_size, (batch_size,))\n",
    "    x = torch.stack([data[i:i+block_size] for i in ix])\n",
    "    y = torch.stack([data[i+1:i+block_size+1] for i in ix])\n",
    "    x, y = x.to(device), y.to(device)\n",
    "    return x, y\n",
    "\n"
   ]
  },
  {
   "cell_type": "code",
   "execution_count": 20,
   "metadata": {},
   "outputs": [
    {
     "data": {
      "text/plain": [
       "(tensor([[40, 39, 45,  ..., 46, 43,  1],\n",
       "         [ 0, 32, 46,  ...,  0,  0, 18],\n",
       "         [50, 43, 58,  ..., 53, 52, 11],\n",
       "         ...,\n",
       "         [58,  1, 40,  ...,  6,  0, 35],\n",
       "         [ 1, 50, 53,  ..., 53, 59, 56],\n",
       "         [43, 40, 39,  ...,  1, 40, 39]], device='cuda:0'),\n",
       " tensor([[39, 45, 45,  ..., 43,  1, 61],\n",
       "         [32, 46, 39,  ...,  0, 18, 30],\n",
       "         [43, 58,  1,  ..., 52, 11,  1],\n",
       "         ...,\n",
       "         [ 1, 40, 43,  ...,  0, 35, 47],\n",
       "         [50, 53, 53,  ..., 59, 56,  5],\n",
       "         [40, 39, 58,  ..., 40, 39, 41]], device='cuda:0'))"
      ]
     },
     "execution_count": 20,
     "metadata": {},
     "output_type": "execute_result"
    }
   ],
   "source": [
    "get_batch('train')"
   ]
  }
 ],
 "metadata": {
  "kernelspec": {
   "display_name": "Python 3",
   "language": "python",
   "name": "python3"
  },
  "language_info": {
   "codemirror_mode": {
    "name": "ipython",
    "version": 3
   },
   "file_extension": ".py",
   "mimetype": "text/x-python",
   "name": "python",
   "nbconvert_exporter": "python",
   "pygments_lexer": "ipython3",
   "version": "3.8.10"
  }
 },
 "nbformat": 4,
 "nbformat_minor": 4
}
