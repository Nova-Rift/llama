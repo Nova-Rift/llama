{
 "cells": [
  {
   "cell_type": "code",
   "execution_count": 1,
   "metadata": {},
   "outputs": [],
   "source": [
    "import torch\n",
    "import torch.nn as nn\n",
    "import torch.nn.functional as F"
   ]
  },
  {
   "cell_type": "code",
   "execution_count": 2,
   "metadata": {},
   "outputs": [
    {
     "ename": "OutOfMemoryError",
     "evalue": "CUDA out of memory. Tried to allocate 20.00 MiB (GPU 0; 10.92 GiB total capacity; 1.75 GiB already allocated; 22.19 MiB free; 1.76 GiB reserved in total by PyTorch) If reserved memory is >> allocated memory try setting max_split_size_mb to avoid fragmentation.  See documentation for Memory Management and PYTORCH_CUDA_ALLOC_CONF",
     "output_type": "error",
     "traceback": [
      "\u001b[0;31m---------------------------------------------------------------------------\u001b[0m",
      "\u001b[0;31mOutOfMemoryError\u001b[0m                          Traceback (most recent call last)",
      "\u001b[0;32m<ipython-input-2-4ebb70bf85ec>\u001b[0m in \u001b[0;36m<module>\u001b[0;34m\u001b[0m\n\u001b[1;32m     48\u001b[0m \u001b[0;34m\u001b[0m\u001b[0m\n\u001b[1;32m     49\u001b[0m         \u001b[0;31m# Forward pass\u001b[0m\u001b[0;34m\u001b[0m\u001b[0;34m\u001b[0m\u001b[0;34m\u001b[0m\u001b[0m\n\u001b[0;32m---> 50\u001b[0;31m         \u001b[0moutput\u001b[0m \u001b[0;34m=\u001b[0m \u001b[0mmodel\u001b[0m\u001b[0;34m(\u001b[0m\u001b[0mdata\u001b[0m\u001b[0;34m)\u001b[0m\u001b[0;34m\u001b[0m\u001b[0;34m\u001b[0m\u001b[0m\n\u001b[0m\u001b[1;32m     51\u001b[0m \u001b[0;34m\u001b[0m\u001b[0m\n\u001b[1;32m     52\u001b[0m         \u001b[0;31m# Calculate loss\u001b[0m\u001b[0;34m\u001b[0m\u001b[0;34m\u001b[0m\u001b[0;34m\u001b[0m\u001b[0m\n",
      "\u001b[0;32m~/.local/lib/python3.8/site-packages/torch/nn/modules/module.py\u001b[0m in \u001b[0;36m_call_impl\u001b[0;34m(self, *args, **kwargs)\u001b[0m\n\u001b[1;32m   1499\u001b[0m                 \u001b[0;32mor\u001b[0m \u001b[0m_global_backward_pre_hooks\u001b[0m \u001b[0;32mor\u001b[0m \u001b[0m_global_backward_hooks\u001b[0m\u001b[0;34m\u001b[0m\u001b[0;34m\u001b[0m\u001b[0m\n\u001b[1;32m   1500\u001b[0m                 or _global_forward_hooks or _global_forward_pre_hooks):\n\u001b[0;32m-> 1501\u001b[0;31m             \u001b[0;32mreturn\u001b[0m \u001b[0mforward_call\u001b[0m\u001b[0;34m(\u001b[0m\u001b[0;34m*\u001b[0m\u001b[0margs\u001b[0m\u001b[0;34m,\u001b[0m \u001b[0;34m**\u001b[0m\u001b[0mkwargs\u001b[0m\u001b[0;34m)\u001b[0m\u001b[0;34m\u001b[0m\u001b[0;34m\u001b[0m\u001b[0m\n\u001b[0m\u001b[1;32m   1502\u001b[0m         \u001b[0;31m# Do not call functions when jit is used\u001b[0m\u001b[0;34m\u001b[0m\u001b[0;34m\u001b[0m\u001b[0;34m\u001b[0m\u001b[0m\n\u001b[1;32m   1503\u001b[0m         \u001b[0mfull_backward_hooks\u001b[0m\u001b[0;34m,\u001b[0m \u001b[0mnon_full_backward_hooks\u001b[0m \u001b[0;34m=\u001b[0m \u001b[0;34m[\u001b[0m\u001b[0;34m]\u001b[0m\u001b[0;34m,\u001b[0m \u001b[0;34m[\u001b[0m\u001b[0;34m]\u001b[0m\u001b[0;34m\u001b[0m\u001b[0;34m\u001b[0m\u001b[0m\n",
      "\u001b[0;32m<ipython-input-2-4ebb70bf85ec>\u001b[0m in \u001b[0;36mforward\u001b[0;34m(self, x)\u001b[0m\n\u001b[1;32m     17\u001b[0m     \u001b[0;32mdef\u001b[0m \u001b[0mforward\u001b[0m\u001b[0;34m(\u001b[0m\u001b[0mself\u001b[0m\u001b[0;34m,\u001b[0m \u001b[0mx\u001b[0m\u001b[0;34m)\u001b[0m\u001b[0;34m:\u001b[0m\u001b[0;34m\u001b[0m\u001b[0;34m\u001b[0m\u001b[0m\n\u001b[1;32m     18\u001b[0m         \u001b[0;32mfor\u001b[0m \u001b[0mi\u001b[0m\u001b[0;34m,\u001b[0m \u001b[0mlayer\u001b[0m \u001b[0;32min\u001b[0m \u001b[0menumerate\u001b[0m\u001b[0;34m(\u001b[0m\u001b[0mself\u001b[0m\u001b[0;34m.\u001b[0m\u001b[0mlayers\u001b[0m\u001b[0;34m)\u001b[0m\u001b[0;34m:\u001b[0m\u001b[0;34m\u001b[0m\u001b[0;34m\u001b[0m\u001b[0m\n\u001b[0;32m---> 19\u001b[0;31m             \u001b[0mmodified_W\u001b[0m \u001b[0;34m=\u001b[0m \u001b[0mlayer\u001b[0m\u001b[0;34m.\u001b[0m\u001b[0mweight\u001b[0m \u001b[0;34m+\u001b[0m \u001b[0mself\u001b[0m\u001b[0;34m.\u001b[0m\u001b[0mA\u001b[0m\u001b[0;34m[\u001b[0m\u001b[0mi\u001b[0m\u001b[0;34m]\u001b[0m \u001b[0;34m@\u001b[0m \u001b[0mself\u001b[0m\u001b[0;34m.\u001b[0m\u001b[0mB\u001b[0m\u001b[0;34m[\u001b[0m\u001b[0mi\u001b[0m\u001b[0;34m]\u001b[0m\u001b[0;34m\u001b[0m\u001b[0;34m\u001b[0m\u001b[0m\n\u001b[0m\u001b[1;32m     20\u001b[0m             \u001b[0mx\u001b[0m \u001b[0;34m=\u001b[0m \u001b[0mF\u001b[0m\u001b[0;34m.\u001b[0m\u001b[0mlinear\u001b[0m\u001b[0;34m(\u001b[0m\u001b[0mx\u001b[0m\u001b[0;34m,\u001b[0m \u001b[0mmodified_W\u001b[0m\u001b[0;34m,\u001b[0m \u001b[0mlayer\u001b[0m\u001b[0;34m.\u001b[0m\u001b[0mbias\u001b[0m\u001b[0;34m)\u001b[0m\u001b[0;34m\u001b[0m\u001b[0;34m\u001b[0m\u001b[0m\n\u001b[1;32m     21\u001b[0m             \u001b[0mx\u001b[0m \u001b[0;34m=\u001b[0m \u001b[0mF\u001b[0m\u001b[0;34m.\u001b[0m\u001b[0mrelu\u001b[0m\u001b[0;34m(\u001b[0m\u001b[0mx\u001b[0m\u001b[0;34m)\u001b[0m\u001b[0;34m\u001b[0m\u001b[0;34m\u001b[0m\u001b[0m\n",
      "\u001b[0;31mOutOfMemoryError\u001b[0m: CUDA out of memory. Tried to allocate 20.00 MiB (GPU 0; 10.92 GiB total capacity; 1.75 GiB already allocated; 22.19 MiB free; 1.76 GiB reserved in total by PyTorch) If reserved memory is >> allocated memory try setting max_split_size_mb to avoid fragmentation.  See documentation for Memory Management and PYTORCH_CUDA_ALLOC_CONF"
     ]
    }
   ],
   "source": [
    "import torch\n",
    "import torch.nn as nn\n",
    "import torch.nn.functional as F\n",
    "from time import time\n",
    "\n",
    "class MyModelLoRA(nn.Module):\n",
    "    def __init__(self, input_dims, hidden_dims, out_dims, rank, num_layers):\n",
    "        super().__init__()\n",
    "        self.layers = nn.ModuleList([nn.Linear(input_dims if i == 0 else hidden_dims, hidden_dims) for i in range(num_layers)])\n",
    "        self.output_layer = nn.Linear(hidden_dims, out_dims)\n",
    "        self.rank = rank\n",
    "\n",
    "        # Initialize LoRA matrices A and B with smaller scale\n",
    "        self.A = nn.ParameterList([nn.Parameter(torch.randn(hidden_dims, rank) * 0.01) for _ in range(num_layers)])\n",
    "        self.B = nn.ParameterList([nn.Parameter(torch.randn(rank, input_dims if i == 0 else hidden_dims) * 0.01) for i in range(num_layers)])\n",
    "        \n",
    "    def forward(self, x):\n",
    "        for i, layer in enumerate(self.layers):\n",
    "            modified_W = layer.weight + self.A[i] @ self.B[i]\n",
    "            x = F.linear(x, modified_W, layer.bias)\n",
    "            x = F.relu(x)\n",
    "        x = self.output_layer(x)\n",
    "        return x\n",
    "\n",
    "# Model, optimizer, and loss function\n",
    "model = MyModelLoRA(10000, 1000, 128, rank=30, num_layers=300).to('cuda')\n",
    "for layer in model.layers:\n",
    "    for param in layer.parameters():\n",
    "        param.requires_grad = False\n",
    "params_to_optimize = list(model.A.parameters()) + list(model.B.parameters()) + list(model.output_layer.parameters())\n",
    "optimizer = torch.optim.AdamW(params_to_optimize, lr=1e-3)\n",
    "loss_function = nn.MSELoss()\n",
    "\n",
    "# Training parameters\n",
    "epochs = 5\n",
    "batch_size = 64\n",
    "grad_clip = 1.0  # Gradient clipping threshold\n",
    "\n",
    "# Training loop\n",
    "for epoch in range(epochs):\n",
    "    epoch_loss = 0\n",
    "    start_time = time()\n",
    "\n",
    "    for _ in range(100):  # Number of batches\n",
    "        # Generate random data and labels\n",
    "        data = torch.rand(batch_size, 10000).to('cuda')\n",
    "        target = torch.rand(batch_size, 128).to('cuda')\n",
    "\n",
    "        # Forward pass\n",
    "        output = model(data)\n",
    "\n",
    "        # Calculate loss\n",
    "        loss = loss_function(output, target)\n",
    "\n",
    "        # Backward pass and optimize\n",
    "        optimizer.zero_grad()\n",
    "        loss.backward()\n",
    "\n",
    "        # Gradient clipping\n",
    "        nn.utils.clip_grad_norm_(params_to_optimize, grad_clip)\n",
    "\n",
    "        optimizer.step()\n",
    "\n",
    "        epoch_loss += loss.item()\n",
    "\n",
    "    end_time = time()\n",
    "    print(f\"Epoch {epoch+1}/{epochs}, Loss: {epoch_loss/100:.4f}, Time: {end_time - start_time:.2f} seconds\")\n",
    "\n",
    "print(\"Training completed.\")\n"
   ]
  },
  {
   "cell_type": "code",
   "execution_count": 3,
   "metadata": {},
   "outputs": [
    {
     "name": "stdout",
     "output_type": "stream",
     "text": [
      "Epoch 1/5, Loss: 0.1064, Time: 3.61 seconds\n",
      "Epoch 2/5, Loss: 0.0835, Time: 3.58 seconds\n",
      "Epoch 3/5, Loss: 0.0836, Time: 3.56 seconds\n",
      "Epoch 4/5, Loss: 0.0837, Time: 3.52 seconds\n",
      "Epoch 5/5, Loss: 0.0837, Time: 3.61 seconds\n",
      "Training completed.\n"
     ]
    }
   ],
   "source": [
    "import torch\n",
    "import torch.nn as nn\n",
    "import torch.nn.functional as F\n",
    "from time import time\n",
    "\n",
    "class MyModelLoRA(nn.Module):\n",
    "    def __init__(self, input_dims, hidden_dims, out_dims, rank, num_layers):\n",
    "        super().__init__()\n",
    "        self.layers = nn.ModuleList([nn.Linear(input_dims if i == 0 else hidden_dims, hidden_dims) for i in range(num_layers)])\n",
    "        self.output_layer = nn.Linear(hidden_dims, out_dims)\n",
    "        self.rank = rank\n",
    "        self.num_layers = num_layers\n",
    "\n",
    "        # Initialize LoRA matrices A and B with smaller scale\n",
    "        self.A = nn.ParameterList([nn.Parameter(torch.randn(hidden_dims, rank) * 0.01) for _ in range(num_layers)])\n",
    "        self.B = nn.ParameterList([nn.Parameter(torch.randn(rank, input_dims if i == 0 else hidden_dims) * 0.01) for i in range(num_layers)])\n",
    "        \n",
    "    def forward(self, x):\n",
    "        lora_start_layer = int(self.num_layers * 4 / 5)  # Start applying LoRA at this layer\n",
    "        for i, layer in enumerate(self.layers):\n",
    "            if i >= lora_start_layer:  # Apply LoRA only to the last 1/5 layers\n",
    "                modified_W = layer.weight + self.A[i] @ self.B[i]\n",
    "                x = F.linear(x, modified_W, layer.bias)\n",
    "            else:\n",
    "                x = layer(x)  # Regular linear layer\n",
    "            x = F.relu(x)\n",
    "        x = self.output_layer(x)\n",
    "        return x\n",
    "\n",
    "# Model, optimizer, and loss function\n",
    "model = MyModelLoRA(10000, 1000, 128, rank=30, num_layers=300).to('cuda')\n",
    "for layer in model.layers:\n",
    "    for param in layer.parameters():\n",
    "        param.requires_grad = False\n",
    "params_to_optimize = list(model.A.parameters()) + list(model.B.parameters()) + list(model.output_layer.parameters())\n",
    "optimizer = torch.optim.AdamW(params_to_optimize, lr=1e-3)\n",
    "loss_function = nn.MSELoss()\n",
    "\n",
    "# Training parameters\n",
    "epochs = 5\n",
    "batch_size = 64\n",
    "grad_clip = 1.0  # Gradient clipping threshold\n",
    "\n",
    "# Training loop\n",
    "for epoch in range(epochs):\n",
    "    epoch_loss = 0\n",
    "    start_time = time()\n",
    "\n",
    "    for _ in range(100):  # Number of batches\n",
    "        # Generate random data and labels\n",
    "        data = torch.rand(batch_size, 10000).to('cuda')\n",
    "        target = torch.rand(batch_size, 128).to('cuda')\n",
    "\n",
    "        # Forward pass\n",
    "        output = model(data)\n",
    "\n",
    "        # Calculate loss\n",
    "        loss = loss_function(output, target)\n",
    "\n",
    "        # Backward pass and optimize\n",
    "        optimizer.zero_grad()\n",
    "        loss.backward()\n",
    "\n",
    "        # Gradient clipping\n",
    "        nn.utils.clip_grad_norm_(params_to_optimize, grad_clip)\n",
    "\n",
    "        optimizer.step()\n",
    "\n",
    "        epoch_loss += loss.item()\n",
    "\n",
    "    end_time = time()\n",
    "    print(f\"Epoch {epoch+1}/{epochs}, Loss: {epoch_loss/100:.4f}, Time: {end_time - start_time:.2f} seconds\")\n",
    "\n",
    "print(\"Training completed.\")\n"
   ]
  },
  {
   "cell_type": "code",
   "execution_count": 4,
   "metadata": {},
   "outputs": [
    {
     "data": {
      "text/plain": [
       "Parameter containing:\n",
       "tensor([[ 2.6807e+15,  4.5794e-41,  1.1781e-10,  4.5796e-41],\n",
       "        [ 2.6919e+29, -1.7085e-20,  2.6808e+15,  4.5794e-41],\n",
       "        [ 1.1962e-10,  4.5796e-41, -1.3418e-19, -9.7663e-30]],\n",
       "       requires_grad=True)"
      ]
     },
     "execution_count": 4,
     "metadata": {},
     "output_type": "execute_result"
    }
   ],
   "source": [
    "nn.Parameter(torch.Tensor(3,4))"
   ]
  },
  {
   "cell_type": "code",
   "execution_count": 7,
   "metadata": {},
   "outputs": [
    {
     "data": {
      "text/plain": [
       "Parameter containing:\n",
       "tensor([[5.0188e-38, 0.0000e+00, 3.8804e-36, 0.0000e+00],\n",
       "        [2.3873e+14, 4.5794e-41, 0.0000e+00, 0.0000e+00],\n",
       "        [0.0000e+00, 0.0000e+00, 0.0000e+00, 0.0000e+00]], requires_grad=True)"
      ]
     },
     "execution_count": 7,
     "metadata": {},
     "output_type": "execute_result"
    }
   ],
   "source": [
    "nn.Parameter(torch.Tensor(3,4))"
   ]
  },
  {
   "cell_type": "markdown",
   "metadata": {},
   "source": [
    "# Lora Layer , with kaiming and down scale"
   ]
  },
  {
   "cell_type": "code",
   "execution_count": null,
   "metadata": {},
   "outputs": [],
   "source": [
    "class LoRALayer(nn.Module):\n",
    "    def __init__(self, in_features, out_features, rank, alpha=1, scale=0.01):\n",
    "        super(LoRALayer, self).__init__()\n",
    "        self.rank = rank\n",
    "        self.alpha = alpha\n",
    "\n",
    "        self.W = nn.Linear(in_features, out_features, bias=False)  # Original weights\n",
    "        self.lora_W1 = nn.Parameter(torch.Tensor(out_features, rank))  # Low-rank matrix W1\n",
    "        self.lora_W2 = nn.Parameter(torch.Tensor(rank, in_features))  # Low-rank matrix W2\n",
    "\n",
    "        nn.init.kaiming_uniform_(self.lora_W1, a=math.sqrt(5))\n",
    "        nn.init.kaiming_uniform_(self.lora_W2, a=math.sqrt(5))\n",
    "\n",
    "        # Scale down the LoRA matrices\n",
    "        self.lora_W1.data *= scale\n",
    "        self.lora_W2.data *= scale\n",
    "\n",
    "    def forward(self, x):\n",
    "        lora_adjustment = self.lora_W1 @ self.lora_W2\n",
    "        W_lora = self.W.weight + self.alpha * lora_adjustment\n",
    "        return F.linear(x, W_lora, self.W.bias)\n"
   ]
  }
 ],
 "metadata": {
  "kernelspec": {
   "display_name": "Python 3",
   "language": "python",
   "name": "python3"
  },
  "language_info": {
   "codemirror_mode": {
    "name": "ipython",
    "version": 3
   },
   "file_extension": ".py",
   "mimetype": "text/x-python",
   "name": "python",
   "nbconvert_exporter": "python",
   "pygments_lexer": "ipython3",
   "version": "3.8.10"
  }
 },
 "nbformat": 4,
 "nbformat_minor": 4
}
